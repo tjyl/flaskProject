{
 "cells": [
  {
   "cell_type": "code",
   "execution_count": 4,
   "metadata": {
    "collapsed": true
   },
   "outputs": [
    {
     "name": "stdout",
     "output_type": "stream",
     "text": [
      "LOTTE CINEMA 동성로 상영시간표 잔여좌석\n",
      "\n",
      "내일의 기억 [('19:10', 102), ('20:00', 92)] \n",
      "\n",
      "서복 [('20:15', 34), ('19:35', 128), ('21:30', 108), ('20:50', 135)] \n",
      "\n",
      "명탐정 코난: 비색의 탄환 [('18:50', 101)] \n",
      "\n",
      "어른들은 몰라요 [('19:45', 84)] \n",
      "\n",
      "노바디 [('21:50', 137), ('19:00', 134)] \n",
      "\n",
      "노매드랜드 [('21:10', 94)] \n",
      "\n",
      "고질라 VS. 콩 [('20:50', 137)] \n",
      "\n",
      "레 미제라블 [('19:05', 99)] \n",
      "\n",
      "팅커 테일러 솔저 스파이 [('21:00', 108)] \n",
      "\n"
     ]
    }
   ],
   "source": [
    "import requests\n",
    "from bs4 import BeautifulSoup\n",
    "\n",
    "url = \"https://www.lottecinema.co.kr/LCWS/Ticketing/TicketingData.aspx\"\n",
    "dic = {\"MethodName\":\"GetPlaySequence\",\n",
    "       \"channelType\":\"HO\",\n",
    "       \"osType\":\"W\",\n",
    "       \"osVersion\":\"Mozilla/5.0\",\n",
    "       \"playDate\":\"2021-04-21\",\n",
    "       \"cinemaID\":\"1|0005|5005\",\n",
    "       \"representationMovieCode\":\"\"}\n",
    "parameters = {\"paramList\": str(dic)}\n",
    "response = requests.post(url,data = parameters).json()\n",
    "\n",
    "movies_response = response['PlaySeqs']['Items']\n",
    "\n",
    "print('LOTTE CINEMA 동성로 상영시간표 잔여좌석')\n",
    "print('')\n",
    "\n",
    "def split_movies_by_no(response):\n",
    "    movie_no_list = get_movie_no_list(response)\n",
    "    for movie_no in movie_no_list:\n",
    "        movies = [item for item in response if item[\"MovieCode\"] == movie_no]\n",
    "        title = movies[0][\"MovieNameKR\"]\n",
    "        timetable = get_time_table(movies)\n",
    "        print(title,timetable,\"\\n\")\n",
    "\n",
    "def get_movie_no_list(response):\n",
    "    movie_no_list = []\n",
    "    for item in response:\n",
    "        movie_no = item[\"MovieCode\"]\n",
    "        if movie_no not in movie_no_list:\n",
    "            movie_no_list.append(movie_no)\n",
    "    return movie_no_list\n",
    "\n",
    "def get_time_table(movies):\n",
    "      tuples = []\n",
    "      for movie in movies:\n",
    "        time = movie[\"StartTime\"]\n",
    "        seats = movie[\"BookingSeatCount\"]\n",
    "        tuple = (time,seats)\n",
    "        tuples.append(tuple)\n",
    "      return tuples\n",
    "\n",
    "split_movies_by_no(movies_response)\n",
    "\n",
    "\n",
    "\n",
    "\n"
   ]
  }
 ],
 "metadata": {
  "kernelspec": {
   "display_name": "Python 3",
   "language": "python",
   "name": "python3"
  },
  "language_info": {
   "codemirror_mode": {
    "name": "ipython",
    "version": 2
   },
   "file_extension": ".py",
   "mimetype": "text/x-python",
   "name": "python",
   "nbconvert_exporter": "python",
   "pygments_lexer": "ipython2",
   "version": "2.7.6"
  }
 },
 "nbformat": 4,
 "nbformat_minor": 0
}