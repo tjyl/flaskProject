{
 "cells": [
  {
   "cell_type": "code",
   "execution_count": 2,
   "metadata": {
    "collapsed": true
   },
   "outputs": [
    {
     "name": "stdout",
     "output_type": "stream",
     "text": [
      "메가박스 대구(칠성로) 상영시간표 잔여좌석\n",
      "\n",
      "극장판 귀멸의 칼날: 무한열차편 [('15:10', 126), ('19:45', 124)] \n",
      "\n",
      "내일의 기억 [('13:25', 126), ('15:30', 125), ('17:50', 126), ('19:55', 125), ('12:20', 136), ('14:25', 137), ('16:30', 136), ('18:35', 135), ('20:40', 135), ('17:10', 115), ('19:15', 115)] \n",
      "\n",
      "사랑하고 사랑받고, 차고 차이고 [('13:00', 116), ('17:35', 114)] \n",
      "\n",
      "서복 [('16:05', 213), ('18:25', 216), ('20:45', 214), ('12:35', 125), ('14:55', 123), ('17:15', 125), ('19:35', 125)] \n",
      "\n",
      "명탐정 코난: 비색의 탄환 [('12:25', 113)] \n",
      "\n",
      "명탐정 코난: 비색의 탄환 [('15:55', 97)] \n",
      "\n",
      "자산어보 [('12:45', 93), ('17:55', 101), ('20:30', 101)] \n",
      "\n",
      "패왕별희 디 오리지널 [('17:25', 90)] \n",
      "\n",
      "플립 [('14:00', 101), ('18:10', 100)] \n",
      "\n",
      "더 파더 [('15:20', 93)] \n",
      "\n",
      "[N스크린]인천스텔라 [('20:10', 101)] \n",
      "\n",
      "소년시절의 너 [('14:15', 123)] \n",
      "\n",
      "섀도우 클라우드 [('16:55', 125), ('20:35', 124)] \n",
      "\n",
      "유다 그리고 블랙 메시아 [('14:40', 114)] \n",
      "\n",
      "스프링 송 [('12:25', 125), ('18:45', 125)] \n",
      "\n",
      "천녀유혼 [('20:45', 93)] \n",
      "\n",
      "[F] 타인의 친절 [('13:45', 216)] \n",
      "\n",
      "[F] 무순, 세상을 가로질러 [('13:35', 101), ('15:45', 101)] \n",
      "\n"
     ]
    }
   ],
   "source": [
    "import requests\n",
    "from bs4 import BeautifulSoup\n",
    "\n",
    "url = \"https://www.megabox.co.kr/on/oh/ohc/Brch/schedulePage.do\"\n",
    "parameters = {\"masterType\":\"brch\",\n",
    "              \"detailType\":\"area\",\n",
    "              \"brchNo\":\"7022\",\n",
    "              \"firstAt\":\"N\",\n",
    "              \"brchNo1\": \"7022\",\n",
    "              \"crtDe\":\"20210422\",\n",
    "              \"playDe\":\"20210422\"}\n",
    "response = requests.post(url, data = parameters).json()\n",
    "\n",
    "movie_response = response['megaMap']['movieFormList']\n",
    "\n",
    "print(\"메가박스 대구(칠성로) 상영시간표 잔여좌석\")\n",
    "print(\"\")\n",
    "\n",
    "def split_movies_by_no(response):\n",
    "    movie_no_list = get_movie_no_list(response)\n",
    "    for movie_no in movie_no_list:\n",
    "        movies = [item for item in response if item[\"movieNo\"] == movie_no]\n",
    "        title = movies[0][\"movieNm\"]\n",
    "        timetable = get_time_table(movies)\n",
    "        print(title,timetable,\"\\n\")\n",
    "\n",
    "def get_movie_no_list(response):\n",
    "    movie_no_list = []\n",
    "    for item in response:\n",
    "        movie_no = item[\"movieNo\"]\n",
    "        if movie_no not in movie_no_list:\n",
    "            movie_no_list.append(movie_no)\n",
    "    return movie_no_list\n",
    "\n",
    "def get_time_table(movies):\n",
    "    tuples = []\n",
    "    for movie in movies:\n",
    "        time = movie[\"playStartTime\"]\n",
    "        seats = movie[\"restSeatCnt\"]\n",
    "        tuple = (time, seats)\n",
    "        tuples.append(tuple)\n",
    "    return tuples\n",
    "\n",
    "split_movies_by_no(movie_response)\n",
    "\n"
   ]
  }
 ],
 "metadata": {
  "kernelspec": {
   "display_name": "Python 3",
   "language": "python",
   "name": "python3"
  },
  "language_info": {
   "codemirror_mode": {
    "name": "ipython",
    "version": 2
   },
   "file_extension": ".py",
   "mimetype": "text/x-python",
   "name": "python",
   "nbconvert_exporter": "python",
   "pygments_lexer": "ipython2",
   "version": "2.7.6"
  }
 },
 "nbformat": 4,
 "nbformat_minor": 0
}